{
 "cells": [
  {
   "cell_type": "markdown",
   "id": "84ddb9c9-e916-4db8-91b5-ddd04a8af756",
   "metadata": {},
   "source": [
    "Q1) Who developed python programming language?\n"
   ]
  },
  {
   "cell_type": "markdown",
   "id": "e8d560eb-1346-4b9f-839f-b3b2d8e42181",
   "metadata": {},
   "source": [
    "Ans.Guido van Rossum Python first released on February 20, 1991."
   ]
  },
  {
   "cell_type": "markdown",
   "id": "699d52fd-bada-4d00-b9c9-a5849e609015",
   "metadata": {},
   "source": [
    "Q2) Which type of Programming does python support ?"
   ]
  },
  {
   "cell_type": "markdown",
   "id": "e28bea53-5681-437f-8de3-ab7adb50ce91",
   "metadata": {},
   "source": [
    "Ans.Python is an interpreted programming language, supporting object-orientend, structured and functional programming."
   ]
  },
  {
   "cell_type": "markdown",
   "id": "88e2fd03-a310-450f-aa25-705d8876feb9",
   "metadata": {},
   "source": [
    "Q3) Is Python case sensitive when dealing with identifires?"
   ]
  },
  {
   "cell_type": "markdown",
   "id": "96f3f1c9-0d9f-46ed-a432-80ef3826f876",
   "metadata": {},
   "source": [
    "Ans.Yes, Python is a case-sensitive language."
   ]
  },
  {
   "cell_type": "markdown",
   "id": "d1ec4fa7-cd3c-4322-9598-ffa9227319e2",
   "metadata": {},
   "source": [
    "Q4) What is correct extension of the python file?"
   ]
  },
  {
   "cell_type": "markdown",
   "id": "6d0aeec1-1ce0-4035-8785-de6e8e2171c4",
   "metadata": {},
   "source": [
    "Ans.The Files with the . py extension contain the Python source code."
   ]
  },
  {
   "cell_type": "markdown",
   "id": "76326cbc-543e-4fa5-b85e-aa54c2a76071",
   "metadata": {},
   "source": [
    "Q5) Is Python code compiled or interpreted?"
   ]
  },
  {
   "cell_type": "markdown",
   "id": "c77a0f2d-ceee-4a6c-b658-067c44e82657",
   "metadata": {},
   "source": [
    "Ans.Python is an interpreted language, which means the source code of a Python program is converted into bytecode that is then executed by the Python virtual machine.\n",
    "Python is different from major compiled languages, such as C and C + +, as Python code is not required to be built and linked like code for these languages."
   ]
  },
  {
   "cell_type": "markdown",
   "id": "9d14ad09-5389-4a61-8846-7f3304c27b97",
   "metadata": {},
   "source": [
    "Q6) Name a few blocks of code used to define in python language?"
   ]
  },
  {
   "cell_type": "markdown",
   "id": "7387f2ed-2dbe-43f0-82f6-36229f87b83b",
   "metadata": {},
   "source": [
    "Ans.Indentation is used to define a block of code in python."
   ]
  },
  {
   "cell_type": "markdown",
   "id": "a27d935e-6cbf-4ad4-9d45-97b58e778463",
   "metadata": {},
   "source": [
    "Q7) State a character used to give single-line comments in Python?"
   ]
  },
  {
   "cell_type": "markdown",
   "id": "0524f5f7-23d3-455f-8c34-1324d906de47",
   "metadata": {},
   "source": [
    "Ans.We can write a single-line comment by adding a single # character before any statement or line of code."
   ]
  },
  {
   "cell_type": "markdown",
   "id": "f51b8b49-dec9-4722-be12-cac5545e33de",
   "metadata": {},
   "source": [
    "Q8) Mention functions which can help us to find the version of python that we are currently working on?"
   ]
  },
  {
   "cell_type": "markdown",
   "id": "322292f2-e56e-4337-b521-74da6d77b4f3",
   "metadata": {},
   "source": [
    "Ans.python ––version."
   ]
  },
  {
   "cell_type": "markdown",
   "id": "77ce645e-afa3-49bc-a681-66e950d542a2",
   "metadata": {},
   "source": [
    "Q9) Python supports the creation of anonymous functions at runtime, using a construct called -------"
   ]
  },
  {
   "cell_type": "markdown",
   "id": "85d58eef-406f-4b69-ba31-8781a52df106",
   "metadata": {},
   "source": [
    "Ans It uses a construct called \"lambda\" ."
   ]
  },
  {
   "cell_type": "markdown",
   "id": "ad614acb-c2c7-424c-916d-c92547d34496",
   "metadata": {},
   "source": [
    "Q10) What does pip stand for python?"
   ]
  },
  {
   "cell_type": "markdown",
   "id": "431960eb-09ba-4b71-a6d3-b40e62e5ac98",
   "metadata": {},
   "source": [
    "Ans.It is pip stands for \"preferred installer program\". "
   ]
  },
  {
   "cell_type": "markdown",
   "id": "5b371705-9fe1-4f95-97b4-0569b64c214e",
   "metadata": {},
   "source": [
    "Q11) Mention a few built-in functions in python?"
   ]
  },
  {
   "cell_type": "markdown",
   "id": "733a496e-27ba-453f-9055-f5420f8cd91f",
   "metadata": {},
   "source": [
    "Ans.\n",
    "print( ) function.\n",
    "type( ) function.\n",
    "input( ) function.\n",
    "abs( ) function.\n",
    "pow( ) function.\n",
    "dir( ) function.\n",
    "sorted( ) function.\n",
    "max( ) function."
   ]
  },
  {
   "cell_type": "markdown",
   "id": "5e5a2aa8-5c26-45d0-8d1e-bd327f06cb2a",
   "metadata": {},
   "source": [
    "Q12) What is the maximum possible length of an identifier in Python?"
   ]
  },
  {
   "cell_type": "markdown",
   "id": "47bc6f39-4b68-45c6-9871-3ad06e415d45",
   "metadata": {},
   "source": [
    "Ans. An identifier can have a maximum length of 79 characters in Python."
   ]
  },
  {
   "cell_type": "markdown",
   "id": "e8b37d27-1baa-42d7-9d82-0532806afc21",
   "metadata": {},
   "source": [
    "Q13) What are the benefits of using Python?"
   ]
  },
  {
   "cell_type": "markdown",
   "id": "eb24f3e3-d7e5-4247-bf1a-c9b7ae506d79",
   "metadata": {},
   "source": [
    "Ans. Easy to use and learn and it is use in create website, desktop app, and mostly use in data science and machine learning , Big data Analysis etc."
   ]
  },
  {
   "cell_type": "markdown",
   "id": "63a23a5b-1d80-4402-9795-c45ce939e5ad",
   "metadata": {},
   "source": [
    "Q14) How is memory managed in Python?"
   ]
  },
  {
   "cell_type": "markdown",
   "id": "15046e9b-d5db-441e-8f77-310b33af7d05",
   "metadata": {},
   "source": [
    "Ans. Python uses a portion of the memory for internal use and non-object memory. Another part of the memory is used for Python object such as int, dict, list, etc. CPython contains the object allocator that allocates memory within the object area. The object allocator gets a call every time the new object needs space."
   ]
  },
  {
   "cell_type": "markdown",
   "id": "19322094-e802-45ee-9eb1-0f77de5a930a",
   "metadata": {},
   "source": [
    "Q15) How to install Python on Windows and set path variables?"
   ]
  },
  {
   "cell_type": "markdown",
   "id": "0f4c965e-bee3-4175-9a6d-d0c1f7e22a46",
   "metadata": {},
   "source": [
    "Ans.Go to python website and download button click and than click setup file and its install done then \n",
    "Right-clicking This PC and going to Properties.\n",
    "Clicking on the Advanced system settings in the menu on the left.\n",
    "Clicking on the Environment Variables button o​n the bottom right.\n",
    "In the System variables section, selecting the Path variable and clicking on Edit."
   ]
  },
  {
   "cell_type": "markdown",
   "id": "69773f67-375d-4a42-8ef4-e6a9bc1e8e9a",
   "metadata": {},
   "source": [
    "Q16) Is indentation required in python?"
   ]
  },
  {
   "cell_type": "markdown",
   "id": "3e764f6a-8c87-45e4-8bf0-6b9a09672840",
   "metadata": {},
   "source": [
    "Ans. Indentation refers to the spaces at the beginning of a code line. Where in other programming languages the indentation in code is for readability only, the indentation in Python is very important. Python uses indentation to indicate a block of code."
   ]
  }
 ],
 "metadata": {
  "kernelspec": {
   "display_name": "Python 3 (ipykernel)",
   "language": "python",
   "name": "python3"
  },
  "language_info": {
   "codemirror_mode": {
    "name": "ipython",
    "version": 3
   },
   "file_extension": ".py",
   "mimetype": "text/x-python",
   "name": "python",
   "nbconvert_exporter": "python",
   "pygments_lexer": "ipython3",
   "version": "3.10.8"
  }
 },
 "nbformat": 4,
 "nbformat_minor": 5
}
